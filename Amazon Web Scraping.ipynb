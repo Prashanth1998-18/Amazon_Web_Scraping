{
 "cells": [
  {
   "cell_type": "code",
   "execution_count": 1,
   "id": "61ec2a04",
   "metadata": {},
   "outputs": [],
   "source": [
    "import pandas as pd\n",
    "from bs4 import BeautifulSoup\n",
    "import requests\n",
    "import numpy as np"
   ]
  },
  {
   "cell_type": "code",
   "execution_count": 2,
   "id": "628f5d25",
   "metadata": {},
   "outputs": [],
   "source": [
    "URL = \"https://www.amazon.com/s?k=Monitor&crid=285CHRYI51VOQ&sprefix=monitor%2Caps%2C110&ref=nb_sb_noss_1\""
   ]
  },
  {
   "cell_type": "code",
   "execution_count": 3,
   "id": "8aa68202",
   "metadata": {},
   "outputs": [],
   "source": [
    "HEADERS = ({'User-Agent' : 'Mozilla/5.0 (Macintosh; Intel Mac OS X 10_15_7) AppleWebKit/537.36 (KHTML, like Gecko) Chrome/110.0.0.0 Safari/537.36','Accept-Language' : 'en-US en:q=0.5'})"
   ]
  },
  {
   "cell_type": "code",
   "execution_count": 4,
   "id": "d92d9e43",
   "metadata": {},
   "outputs": [],
   "source": [
    "webpage = requests.get(URL,headers = HEADERS)"
   ]
  },
  {
   "cell_type": "code",
   "execution_count": 5,
   "id": "4985f52b",
   "metadata": {},
   "outputs": [],
   "source": [
    "soup = BeautifulSoup(webpage.content,\"html.parser\")"
   ]
  },
  {
   "cell_type": "code",
   "execution_count": 6,
   "id": "5ae28db0",
   "metadata": {},
   "outputs": [],
   "source": [
    "links = soup.find_all(\"a\",attrs={\"class\" : \"a-link-normal s-underline-text s-underline-link-text s-link-style a-text-normal\"})"
   ]
  },
  {
   "cell_type": "code",
   "execution_count": 7,
   "id": "63b5ae38",
   "metadata": {},
   "outputs": [],
   "source": [
    "def getTitle(product_soup):\n",
    "    try :\n",
    "        title = product_soup.find('span',attrs = {\"class\":\"a-size-large product-title-word-break\"})\n",
    "        return title.text.strip()\n",
    "    except:\n",
    "        return \"\" \n",
    "\n",
    "def getPrice(product_soup):\n",
    "    try:\n",
    "        price = product_soup.find('span',attrs = {\"class\":\"a-offscreen\"})\n",
    "        return price.text\n",
    "    except:\n",
    "        return \"\"\n",
    "\n",
    "def getRatings(product_soup):\n",
    "    try:\n",
    "        ratings = product_soup.find('span',attrs = {\"class\":\"a-icon-alt\"})\n",
    "        return ratings.text[:3]\n",
    "    except:\n",
    "        return \"\"\n",
    "\n",
    "def getAvailability(product_soup):\n",
    "    try:\n",
    "        Availability = product_soup.find('span',attrs = {\"class\":\"a-size-medium a-color-success\"})\n",
    "        return Availability.text.strip()\n",
    "    except:\n",
    "        return \"\"\n",
    "\n",
    "def getNumOfReviews(product_soup):\n",
    "    try:\n",
    "        Reviews = product_soup.find('span',attrs={\"id\":\"acrCustomerReviewText\"})\n",
    "        return Reviews.text[:2]\n",
    "    except:\n",
    "        return \"\"\n"
   ]
  },
  {
   "cell_type": "code",
   "execution_count": 8,
   "id": "b6d412d0",
   "metadata": {},
   "outputs": [],
   "source": [
    "#Monitors = pd.DataFrame(columns = [\"Title\",'Price',\"Ratings\",\"Reviews\",\"Availability\",\"Link\"])\n",
    "dict = {'Title':[],\"Price\":[],'Ratings':[],\"Reviews\":[],\n",
    "           'Availability':[],\"Link\":[]}\n",
    "for link in links:\n",
    "    product_link = \"https://amazon.com\" + link.get('href')\n",
    "    product_webpage = requests.get(product_link,headers=HEADERS)\n",
    "    product_soup = BeautifulSoup(product_webpage.content,\"html.parser\")\n",
    "    product_title = getTitle(product_soup)\n",
    "    product_price = getPrice(product_soup)\n",
    "    product_ratings = getRatings(product_soup)\n",
    "    product_availability = getAvailability(product_soup)\n",
    "    product_num_of_reviews = getNumOfReviews(product_soup)\n",
    "    dict['Title'].append(product_title)\n",
    "    dict[\"Price\"].append(product_price)\n",
    "    dict['Ratings'].append(product_ratings)\n",
    "    dict['Reviews'].append(product_num_of_reviews)\n",
    "    dict['Availability'].append(product_availability)\n",
    "    dict['Link'].append(product_link)\n",
    "\n"
   ]
  },
  {
   "cell_type": "code",
   "execution_count": 35,
   "id": "186b9325",
   "metadata": {},
   "outputs": [
    {
     "data": {
      "text/html": [
       "<div>\n",
       "<style scoped>\n",
       "    .dataframe tbody tr th:only-of-type {\n",
       "        vertical-align: middle;\n",
       "    }\n",
       "\n",
       "    .dataframe tbody tr th {\n",
       "        vertical-align: top;\n",
       "    }\n",
       "\n",
       "    .dataframe thead th {\n",
       "        text-align: right;\n",
       "    }\n",
       "</style>\n",
       "<table border=\"1\" class=\"dataframe\">\n",
       "  <thead>\n",
       "    <tr style=\"text-align: right;\">\n",
       "      <th></th>\n",
       "      <th>Title</th>\n",
       "      <th>Price</th>\n",
       "      <th>Ratings</th>\n",
       "      <th>Reviews</th>\n",
       "      <th>Availability</th>\n",
       "      <th>Link</th>\n",
       "    </tr>\n",
       "  </thead>\n",
       "  <tbody>\n",
       "    <tr>\n",
       "      <th>0</th>\n",
       "      <td>Amazon Basics 27 Inch Monitor Powered with AOC...</td>\n",
       "      <td>$164.99</td>\n",
       "      <td>4.5</td>\n",
       "      <td>98</td>\n",
       "      <td>In Stock</td>\n",
       "      <td>https://amazon.com/gp/slredirect/picassoRedire...</td>\n",
       "    </tr>\n",
       "    <tr>\n",
       "      <th>1</th>\n",
       "      <td>KOORUI 24 Inch Computer Monitor Full HD 1920 x...</td>\n",
       "      <td>$95.99</td>\n",
       "      <td>4.3</td>\n",
       "      <td>2,</td>\n",
       "      <td></td>\n",
       "      <td>https://amazon.com/gp/slredirect/picassoRedire...</td>\n",
       "    </tr>\n",
       "    <tr>\n",
       "      <th>2</th>\n",
       "      <td>Sceptre 20\" 1600 x 900 75Hz LED Monitor 2x HDM...</td>\n",
       "      <td>$67.97</td>\n",
       "      <td>4.5</td>\n",
       "      <td>25</td>\n",
       "      <td>In Stock</td>\n",
       "      <td>https://amazon.com/Sceptre-Monitor-1600x900-Sp...</td>\n",
       "    </tr>\n",
       "    <tr>\n",
       "      <th>3</th>\n",
       "      <td>Sceptre 24\" Professional Thin 75Hz 1080p LED M...</td>\n",
       "      <td>$99.97</td>\n",
       "      <td>4.6</td>\n",
       "      <td>25</td>\n",
       "      <td>In Stock</td>\n",
       "      <td>https://amazon.com/Sceptre-E248W-19203R-Monito...</td>\n",
       "    </tr>\n",
       "    <tr>\n",
       "      <th>4</th>\n",
       "      <td>Acer 21.5 Inch Full HD (1920 x 1080) IPS Ultra...</td>\n",
       "      <td>$88.68</td>\n",
       "      <td>4.6</td>\n",
       "      <td>41</td>\n",
       "      <td>In Stock</td>\n",
       "      <td>https://amazon.com/Acer-SB220Q-Ultra-Thin-Fram...</td>\n",
       "    </tr>\n",
       "  </tbody>\n",
       "</table>\n",
       "</div>"
      ],
      "text/plain": [
       "                                               Title    Price Ratings Reviews  \\\n",
       "0  Amazon Basics 27 Inch Monitor Powered with AOC...  $164.99     4.5      98   \n",
       "1  KOORUI 24 Inch Computer Monitor Full HD 1920 x...   $95.99     4.3      2,   \n",
       "2  Sceptre 20\" 1600 x 900 75Hz LED Monitor 2x HDM...   $67.97     4.5      25   \n",
       "3  Sceptre 24\" Professional Thin 75Hz 1080p LED M...   $99.97     4.6      25   \n",
       "4  Acer 21.5 Inch Full HD (1920 x 1080) IPS Ultra...   $88.68     4.6      41   \n",
       "\n",
       "  Availability                                               Link  \n",
       "0     In Stock  https://amazon.com/gp/slredirect/picassoRedire...  \n",
       "1               https://amazon.com/gp/slredirect/picassoRedire...  \n",
       "2     In Stock  https://amazon.com/Sceptre-Monitor-1600x900-Sp...  \n",
       "3     In Stock  https://amazon.com/Sceptre-E248W-19203R-Monito...  \n",
       "4     In Stock  https://amazon.com/Acer-SB220Q-Ultra-Thin-Fram...  "
      ]
     },
     "execution_count": 35,
     "metadata": {},
     "output_type": "execute_result"
    }
   ],
   "source": [
    "Monitors = pd.DataFrame.from_dict(dict)\n",
    "Monitors.head()"
   ]
  },
  {
   "cell_type": "code",
   "execution_count": 36,
   "id": "4c221e9c",
   "metadata": {},
   "outputs": [],
   "source": [
    "Monitors.to_csv(\"Amazon_Monitors.csv\",header=True,index=False)"
   ]
  },
  {
   "cell_type": "code",
   "execution_count": null,
   "id": "a4781832",
   "metadata": {},
   "outputs": [],
   "source": []
  }
 ],
 "metadata": {
  "kernelspec": {
   "display_name": "Python 3 (ipykernel)",
   "language": "python",
   "name": "python3"
  },
  "language_info": {
   "codemirror_mode": {
    "name": "ipython",
    "version": 3
   },
   "file_extension": ".py",
   "mimetype": "text/x-python",
   "name": "python",
   "nbconvert_exporter": "python",
   "pygments_lexer": "ipython3",
   "version": "3.9.12"
  }
 },
 "nbformat": 4,
 "nbformat_minor": 5
}
